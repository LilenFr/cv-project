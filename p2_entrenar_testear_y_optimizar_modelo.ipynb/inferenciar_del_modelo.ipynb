{
 "cells": [
  {
   "cell_type": "markdown",
   "metadata": {},
   "source": [
    "Link del colab: https://colab.research.google.com/drive/151OnLBu5PUsh3C0XGz1wk5IH1P5Kgjy6?usp=sharing\n",
    "\n",
    "En esta parte evalué qué tal funcionaba el módelo.<br>\n",
    "Los resultados varían:\n",
    "\n",
    "En esta prueba, detectó un auto con 98%\n",
    "\n",
    "![Alt text](./imgs/resultado1.png)\n",
    "\n",
    "Y acá una moto con 99%\n",
    "![Alt text](./imgs/resultado2.png)\n",
    "\n",
    "Sin embargo, también se dieron estos resultados extraños\n",
    "\n",
    "![Alt text](./imgs/resultado_anormal.png)\n",
    "![Alt text](./imgs/resultado_anormal2.png)\n",
    "![Alt text](./imgs/resultado_anormal3.png)\n",
    "![Alt text](./imgs/resultado_anormal4.png)\n",
    "![Alt text](./imgs/resultado_anormal5.png)\n",
    "![Alt text](./imgs/resultado_anormal6.png)\n",
    "\n",
    "Todo salío bien a nivel de código y de lógica, pero claramente este modelo necesita re-entrenamiento para hacer una mejor detección.<br>\n",
    "De momento, este proyecto termina acá. "
   ]
  }
 ],
 "metadata": {
  "kernelspec": {
   "display_name": "Python 3.8.10 64-bit",
   "language": "python",
   "name": "python3"
  },
  "language_info": {
   "name": "python",
   "version": "3.8.10"
  },
  "orig_nbformat": 4,
  "vscode": {
   "interpreter": {
    "hash": "916dbcbb3f70747c44a77c7bcd40155683ae19c65e1c03b4aa3499c5328201f1"
   }
  }
 },
 "nbformat": 4,
 "nbformat_minor": 2
}
