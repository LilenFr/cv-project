{
 "cells": [
  {
   "cell_type": "markdown",
   "metadata": {},
   "source": [
    "Para la parte de entrenamiento del modelo se requiere activar la GPU. Esto puede hacerse facilmente con Conda, pero a mí me causaba varios conflictos. En pos de mantenerlo simple decidí continuar las siguientes dos partes en Google Colab.\n",
    "\n",
    "Link del colab de entrenamiento: https://colab.research.google.com/drive/10kTNNW65akDEUn20r5enMyFsJL_grS-B?usp=sharing\n",
    "\n",
    "Nota: Es importante descargar los archivos que se produzcan en el colab (label_map.pbtxt y fine_tuned_model.zip), ya que estos luego se borrarán. Yo los descargué y moví a la misma carpeta que contiene este cuaderno."
   ]
  }
 ],
 "metadata": {
  "kernelspec": {
   "display_name": "Python 3.8.10 ('venv': venv)",
   "language": "python",
   "name": "python3"
  },
  "language_info": {
   "name": "python",
   "version": "3.8.10"
  },
  "orig_nbformat": 4,
  "vscode": {
   "interpreter": {
    "hash": "f37e4b51f1b7e8b5084d7006079a4e1c09d50ce66974673d0c56e69434aefbea"
   }
  }
 },
 "nbformat": 4,
 "nbformat_minor": 2
}
