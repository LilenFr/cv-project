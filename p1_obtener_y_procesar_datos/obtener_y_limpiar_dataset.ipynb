{
 "cells": [
  {
   "cell_type": "markdown",
   "metadata": {},
   "source": [
    "primero descargué la base de datos (dataset_original.zip) y la descomprimí.\n",
    "Este dataset contiene 130 imágenes de autos y motos que se obtuvieron a través de web scraping. No obstante, hay varias imágenes que no aportan gran valor a los intereses de este proyecto.\n",
    "\n",
    "Por esto último, en segundo lugar, limpié manualmente el dataset. Esto incluye revisar cada imagen y seleccionar las que me interese descartar para posteriormente eliminarlas.\n",
    "Al sobrante lo comprimí en un archivo .zip llamado 'dataset_filtrado.zip'.\n",
    "\n",
    "Una vez hecho lo anterior, creé la carpeta principal de este proyecto, a la cual llamé 'cv-project', y dentro creé y activé un entorno virtual 'venv'.\n",
    "Luego instalé las dependencias necesarias para continuar, las cuales se encuentran en el archivo 'requirements.txt'.\n",
    "\n",
    "Llegado este punto está todo listo para distrbuir el dataset."
   ]
  }
 ],
 "metadata": {
  "kernelspec": {
   "display_name": "Python 3.8.10 ('venv': venv)",
   "language": "python",
   "name": "python3"
  },
  "language_info": {
   "name": "python",
   "version": "3.8.10"
  },
  "orig_nbformat": 4,
  "vscode": {
   "interpreter": {
    "hash": "f37e4b51f1b7e8b5084d7006079a4e1c09d50ce66974673d0c56e69434aefbea"
   }
  }
 },
 "nbformat": 4,
 "nbformat_minor": 2
}
