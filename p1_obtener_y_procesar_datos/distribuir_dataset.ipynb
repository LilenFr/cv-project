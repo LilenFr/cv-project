{
 "cells": [
  {
   "cell_type": "markdown",
   "metadata": {},
   "source": [
    "Importar y descomprimir"
   ]
  },
  {
   "cell_type": "code",
   "execution_count": 1,
   "metadata": {},
   "outputs": [],
   "source": [
    "#importar los siguientes módulos.\n",
    "import os\n",
    "import zipfile\n",
    "import random\n",
    "import shutil"
   ]
  },
  {
   "cell_type": "code",
   "execution_count": 2,
   "metadata": {},
   "outputs": [],
   "source": [
    "#descomprimir el dataset filtrado.\n",
    "local_zip = './dataset_filtrado.zip'\n",
    "zip_ref = zipfile.ZipFile(local_zip, 'r')\n",
    "zip_ref.extractall('dataset_filtrado')\n",
    "zip_ref.close()"
   ]
  },
  {
   "cell_type": "markdown",
   "metadata": {},
   "source": [
    "Definir ruta"
   ]
  },
  {
   "cell_type": "code",
   "execution_count": 3,
   "metadata": {},
   "outputs": [],
   "source": [
    "#definir la ruta donde está el dataset filtrado ya descomprimido y enlistar sus objetos.\n",
    "path = './dataset_filtrado/dataset_filtrado/'\n",
    "content = os.listdir(path)"
   ]
  },
  {
   "cell_type": "code",
   "execution_count": 4,
   "metadata": {},
   "outputs": [
    {
     "data": {
      "text/plain": [
       "['007d086a0d.jpg',\n",
       " '0414eb4d03.jpg',\n",
       " '07ffa35d1f.jpg',\n",
       " '0c535fcdfa.jpg',\n",
       " '1180fcd71f.jpg',\n",
       " '18cf3b73b6.jpg',\n",
       " '2b37a718bc.jpg',\n",
       " '2c3ae2799b.jpg',\n",
       " '2c7120c43a.jpg',\n",
       " '2efb6c3c82.jpg',\n",
       " '2fdd9eb661.jpg',\n",
       " '2feaa7dff6.jpg',\n",
       " '34db31dbb7.jpg',\n",
       " '37e9f4c722.jpg',\n",
       " '38073088aa.jpg',\n",
       " '39339a1089.jpg',\n",
       " '3b2d25d42c.jpg',\n",
       " '3ec8255ddd.jpg',\n",
       " '42e14b904b.jpg',\n",
       " '4848bc97c4.jpg',\n",
       " '486107bbf0.jpg',\n",
       " '530a817c7a.jpg',\n",
       " '533dd3ae49.jpg',\n",
       " '53f2146ec4.jpg',\n",
       " '576c712438.jpg',\n",
       " '5cc8e6c42d.jpg',\n",
       " '636e60da4d.jpg',\n",
       " '6450b21594.jpg',\n",
       " '66d55e26e2.jpg',\n",
       " '6f65ac7a0a.jpg',\n",
       " '717e612946.jpg',\n",
       " '744ca71f5a.jpg',\n",
       " '7490c9ba04.jpg',\n",
       " '89c26158c4.jpg',\n",
       " '8a98fca468.jpg',\n",
       " '8e933395c2.jpg',\n",
       " '93407ba6ac.jpg',\n",
       " '95614aebd9.jpg',\n",
       " 'abdbb7257d.jpg',\n",
       " 'b22ad30e1b.jpg',\n",
       " 'b59018d131.jpg',\n",
       " 'bf5b9af373.jpg',\n",
       " 'c4054a8f2c.jpg',\n",
       " 'c554e9b7b4.jpg',\n",
       " 'cbb99fc122.jpg',\n",
       " 'cf8db02eac.jpg',\n",
       " 'd01c4bbb38.jpg',\n",
       " 'e02950195f.jpg',\n",
       " 'e22a1fc8c5.jpg',\n",
       " 'e4927496c4.jpg',\n",
       " 'e79711e10f.jpg',\n",
       " 'e9379064f8.jpg',\n",
       " 'ea2cb5917b.jpg',\n",
       " 'ea8ce9da21.jpg',\n",
       " 'f74248c57f.jpg',\n",
       " 'f8a2cc7848.jpg',\n",
       " 'fc15988c9a.jpg']"
      ]
     },
     "execution_count": 4,
     "metadata": {},
     "output_type": "execute_result"
    }
   ],
   "source": [
    "#visualizar la información enlistada.\n",
    "content"
   ]
  },
  {
   "cell_type": "code",
   "execution_count": 5,
   "metadata": {},
   "outputs": [],
   "source": [
    "#definir la ruta final donde se almacenará el dataset distribuido y sus correspondientes subrutas de training y test.\n",
    "path_general = 'dataset_final'\n",
    "path_train = '{}/train'.format(path_general)\n",
    "path_test = '{}/test'.format(path_general)\n",
    "\n",
    "#crear las carpetas.\n",
    "os.mkdir(path_general)\n",
    "os.mkdir(path_train)\n",
    "os.mkdir(path_test)"
   ]
  },
  {
   "cell_type": "markdown",
   "metadata": {},
   "source": [
    "Distribuir los datos en training y test"
   ]
  },
  {
   "cell_type": "code",
   "execution_count": 6,
   "metadata": {},
   "outputs": [],
   "source": [
    "#almacenar de manera aleatoria el 70% de las imágenes para el entrenamiento del modelo.\n",
    "train = 0.7\n",
    "for nCount in range(int(len(content)*train)):\n",
    "  random_choice_img = random.choice(content)\n",
    "  random_choice_img_abs = '{}/{}'.format(path,random_choice_img)\n",
    "  target_img = '{}/{}'.format(path_train, random_choice_img)\n",
    "  shutil.copyfile(random_choice_img_abs, target_img)\n",
    "  content.remove(random_choice_img)"
   ]
  },
  {
   "cell_type": "code",
   "execution_count": 7,
   "metadata": {},
   "outputs": [],
   "source": [
    "#almacenar de manera aleatoria el 30% de las imagenes para el testeo del modelo.\n",
    "for img in content:\n",
    "  random_choice_img_abs = '{}/{}'.format(path, img)\n",
    "  target_img = '{}/{}'.format(path_test, img)\n",
    "  shutil.copyfile(random_choice_img_abs, target_img)"
   ]
  },
  {
   "cell_type": "markdown",
   "metadata": {},
   "source": [
    "Armar una función para comprimir el dataset ya distribuido"
   ]
  },
  {
   "cell_type": "code",
   "execution_count": 8,
   "metadata": {},
   "outputs": [],
   "source": [
    "#definir la siguiente función para comprimir en un archivo .zip el dataset final.\n",
    "def make_archive(source, destination):\n",
    "        base = os.path.basename(destination)\n",
    "        name = base.split('.')[0]\n",
    "        format = base.split('.')[1]\n",
    "        archive_from = os.path.dirname(source)\n",
    "        archive_to = os.path.basename(source.strip(os.sep))\n",
    "        print(source, destination, archive_from, archive_to)\n",
    "        shutil.make_archive(name, format, archive_from, archive_to)\n",
    "        shutil.move('%s.%s'%(name,format), destination)"
   ]
  },
  {
   "cell_type": "code",
   "execution_count": 9,
   "metadata": {},
   "outputs": [
    {
     "name": "stdout",
     "output_type": "stream",
     "text": [
      "./dataset_final ./dataset_final.zip . dataset_final\n"
     ]
    }
   ],
   "source": [
    "#ejecutar la función.\n",
    "make_archive('./dataset_final', './dataset_final.zip')"
   ]
  }
 ],
 "metadata": {
  "kernelspec": {
   "display_name": "Python 3.8.10 ('venv': venv)",
   "language": "python",
   "name": "python3"
  },
  "language_info": {
   "codemirror_mode": {
    "name": "ipython",
    "version": 3
   },
   "file_extension": ".py",
   "mimetype": "text/x-python",
   "name": "python",
   "nbconvert_exporter": "python",
   "pygments_lexer": "ipython3",
   "version": "3.8.10"
  },
  "orig_nbformat": 4,
  "vscode": {
   "interpreter": {
    "hash": "f37e4b51f1b7e8b5084d7006079a4e1c09d50ce66974673d0c56e69434aefbea"
   }
  }
 },
 "nbformat": 4,
 "nbformat_minor": 2
}
