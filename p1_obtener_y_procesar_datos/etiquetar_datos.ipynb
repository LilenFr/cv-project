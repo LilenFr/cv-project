{
 "cells": [
  {
   "cell_type": "markdown",
   "metadata": {},
   "source": [
    "Para etiquetar los datos del dataset final creé una cuenta en https://linkedai.co/, quien se describe a sí misma como 'Una solución completa para tomar el control de sus datos de entrenamiento, con herramientas de etiquetado rápido, mano de obra humana, gestión de datos y funciones de automatización'. Esto es, una herramienta de etiquetado inteligente.\n",
    "\n",
    "Dentro de mi cuenta creé un primer proyecto llamado 'cv_train' y dentro un dataset al cual llamé 'train_dataset. Al momento de crear este dataset tuve que subir las imágenes que están dentro de la subcarpeta 'train' dentro de 'dataset_final'. En total, 39 imágenes.\n",
    "\n",
    "Finalmente, seleccioné la opcion 'Bounding Box' y agregué las etiquetas 'auto' y 'moto', que son las que requiere este proyecto. 'Finish'.\n",
    "\n",
    "![Alt text](./imgs/captura-linkedai.png)\n",
    "\n",
    "Proceso de etiquetado con LinkedAI: https://youtu.be/y8i4zH68zNY\n",
    "\n",
    "Luego de etiquetar y guardar todo, fuí a 'Export Options', marqué 'Saved Images' e hice clic en 'REQUEST LABELS', lo cual activó un botón de download para que pudiera descargar un archivo llamado 'cv_train.json'.\n",
    "\n",
    "![Alt text](./imgs/captura2-linkedai.png)\n",
    "\n",
    "Una vez hecho esto, creé un segundo proyecto llamado 'cv_test', dentro del mismo creé un dataset al cual llamé 'test_dataset' y le cargué las imágenes que hay en la subcarpeta 'test' dentro de 'dataset_final'. En total, 18 imágenes. De nuevo, seleccioné la opcion 'Bounding Box' y agregué las etiquetas 'auto' y 'moto'. Clic en Finish y etiqueté y guardé de nuevo todas las imágenes. Por último descargué el correspondiente 'cv_test.json' de la misma manera que hice con el anterior proyecto\n",
    "\n",
    "los archivos .json descargados serán suministros para generar balanceo de clases y data agumentation, y de ahí empezar a generar todo lo que es la conversión de los formatos TFRecords y entrenar el modelo. Los moví al directorio de este cuaderno."
   ]
  }
 ],
 "metadata": {
  "kernelspec": {
   "display_name": "Python 3.8.10 ('venv': venv)",
   "language": "python",
   "name": "python3"
  },
  "language_info": {
   "name": "python",
   "version": "3.8.10"
  },
  "orig_nbformat": 4,
  "vscode": {
   "interpreter": {
    "hash": "f37e4b51f1b7e8b5084d7006079a4e1c09d50ce66974673d0c56e69434aefbea"
   }
  }
 },
 "nbformat": 4,
 "nbformat_minor": 2
}
